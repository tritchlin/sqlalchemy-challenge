{
 "cells": [
  {
   "cell_type": "code",
   "execution_count": 1,
   "source": [
    "%matplotlib inline\r\n",
    "from matplotlib import style\r\n",
    "style.use('fivethirtyeight')\r\n",
    "import matplotlib.pyplot as plt\r\n",
    "import matplotlib.dates as mdates\r\n",
    "\r\n",
    "import numpy as np\r\n",
    "import pandas as pd\r\n",
    "import datetime as dt\r\n",
    "\r\n",
    "from dateutil.relativedelta import *\r\n",
    "from dateutil.parser import *\r\n",
    "from sqlalchemy.dialects.sqlite import \\\r\n",
    "            BLOB, BOOLEAN, CHAR, DATE, DATETIME, DECIMAL, FLOAT, \\\r\n",
    "            INTEGER, NUMERIC, JSON, SMALLINT, TEXT, TIME, TIMESTAMP, \\\r\n",
    "            VARCHAR"
   ],
   "outputs": [],
   "metadata": {}
  },
  {
   "cell_type": "markdown",
   "source": [
    "# Reflect Tables into SQLAlchemy ORM"
   ],
   "metadata": {}
  },
  {
   "cell_type": "code",
   "execution_count": 2,
   "source": [
    "# Python SQL toolkit and Object Relational Mapper\r\n",
    "import sqlalchemy\r\n",
    "from sqlalchemy.sql import select\r\n",
    "from sqlalchemy.ext.automap import automap_base\r\n",
    "from sqlalchemy.orm import Session\r\n",
    "from sqlalchemy import create_engine, func, inspect, distinct, cast, desc\r\n",
    "import sqlite3\r\n",
    "\r\n",
    "# create engine to hawaii.sqlite\r\n",
    "engine = create_engine(\"sqlite:///hawaii.sqlite\",echo=False)\r\n",
    "\r\n",
    "# reflect an existing database into a new model\r\n",
    "base = automap_base()\r\n",
    "\r\n",
    "# reflect the tables\r\n",
    "base.prepare (engine, reflect = True)\r\n",
    "\r\n",
    "# View all of the classes that automap found\r\n",
    "base.classes.keys()"
   ],
   "outputs": [
    {
     "output_type": "execute_result",
     "data": {
      "text/plain": [
       "['measurement', 'station']"
      ]
     },
     "metadata": {},
     "execution_count": 2
    }
   ],
   "metadata": {}
  },
  {
   "cell_type": "code",
   "execution_count": 3,
   "source": [
    "# Save references to each table\r\n",
    "measurement = base.classes.measurement\r\n",
    "station = base.classes.station"
   ],
   "outputs": [],
   "metadata": {}
  },
  {
   "cell_type": "code",
   "execution_count": 4,
   "source": [
    "# Create our session (link) from Python to the DB\r\n",
    "session = Session(engine)\r\n",
    "conn = engine.connect()\r\n",
    "measurements_df = pd.read_sql_query('SELECT * from measurement',con=conn)\r\n",
    "stations_df = pd.read_sql_query('SELECT * from station',con=conn)"
   ],
   "outputs": [],
   "metadata": {}
  },
  {
   "cell_type": "code",
   "execution_count": 5,
   "source": [
    "inspector = inspect(engine)\r\n",
    "inspector.get_table_names()"
   ],
   "outputs": [
    {
     "output_type": "execute_result",
     "data": {
      "text/plain": [
       "['measurement', 'station']"
      ]
     },
     "metadata": {},
     "execution_count": 5
    }
   ],
   "metadata": {}
  },
  {
   "cell_type": "code",
   "execution_count": 6,
   "source": [
    "measurement_columns = inspector.get_columns('measurement')\r\n",
    "for column in measurement_columns:\r\n",
    "    print(column[\"name\"], column[\"type\"])"
   ],
   "outputs": [
    {
     "output_type": "stream",
     "name": "stdout",
     "text": [
      "id INTEGER\n",
      "station TEXT\n",
      "date TEXT\n",
      "prcp FLOAT\n",
      "tobs FLOAT\n"
     ]
    }
   ],
   "metadata": {}
  },
  {
   "cell_type": "code",
   "execution_count": 7,
   "source": [
    "station_columns = inspector.get_columns('station')\r\n",
    "for column in station_columns:\r\n",
    "    print(column[\"name\"], column[\"type\"])"
   ],
   "outputs": [
    {
     "output_type": "stream",
     "name": "stdout",
     "text": [
      "id INTEGER\n",
      "station TEXT\n",
      "name TEXT\n",
      "latitude FLOAT\n",
      "longitude FLOAT\n",
      "elevation FLOAT\n"
     ]
    }
   ],
   "metadata": {}
  },
  {
   "cell_type": "markdown",
   "source": [
    "# Exploratory Precipitation Analysis"
   ],
   "metadata": {}
  },
  {
   "cell_type": "code",
   "execution_count": 8,
   "source": [
    "# Find the most recent date in the data set.\r\n",
    "latest_date = session.query(measurement.date).order_by((measurement.date.desc())).first()\r\n",
    "end_date=dt.datetime.strptime(latest_date[0],'%Y-%m-%d')\r\n",
    "timestamp_end = dt.datetime.strftime(end_date,'%Y-%m-%d')"
   ],
   "outputs": [],
   "metadata": {}
  },
  {
   "cell_type": "code",
   "execution_count": 9,
   "source": [
    "# Design a query to retrieve the last 12 months of precipitation data and plot the results. \r\n",
    "# Starting from the most recent data point in the database. \r\n",
    "\r\n",
    "# Calculate the date one year from the last date in data set.\r\n",
    "start_date = end_date + relativedelta(months=-12)\r\n",
    "timestamp_start = dt.datetime.strftime(start_date,'%Y-%m-%d')"
   ],
   "outputs": [],
   "metadata": {}
  },
  {
   "cell_type": "code",
   "execution_count": 10,
   "source": [
    "# Perform a query to retrieve the data and precipitation scores\r\n",
    "prcp_result = engine.execute('SELECT date,prcp FROM measurement WHERE date BETWEEN :start AND :end',(timestamp_start,timestamp_end)).fetchall()\r\n",
    "\r\n",
    "# Save the query results as a Pandas DataFrame and set the index to the date column\r\n",
    "prcp_df = pd.DataFrame(prcp_result)\r\n",
    "prcp_df[0]=pd.to_datetime(prcp_df[0])\r\n",
    "prcp_final = prcp_df.rename(columns={0:'Date',1:'Precipitation'}).set_index('Date').dropna()\r\n",
    "\r\n",
    "# Sort the dataframe by date\r\n",
    "prcp_chart = prcp_final.sort_values(by=['Date'])\r\n",
    "\r\n",
    "# Use Pandas Plotting with Matplotlib to plot the data\r\n",
    "plt.plot(prcp_chart.index, prcp_chart[\"Precipitation\"],label=\"Precipitation\")\r\n",
    "plt.legend(loc=\"upper center\")\r\n",
    "plt.title(\"Precipitation in Honolulu over 12 months\")\r\n",
    "plt.xlabel(\"Date\")\r\n",
    "plt.ylabel(\"Inches\")\r\n",
    "plt.xticks(rotation=90)\r\n",
    "plt.show()"
   ],
   "outputs": [
    {
     "output_type": "display_data",
     "data": {
      "text/plain": [
       "<Figure size 432x288 with 1 Axes>"
      ],
      "image/png": "[encoded data removed]"
     },
     "metadata": {}
    }
   ],
   "metadata": {}
  },
  {
   "cell_type": "code",
   "execution_count": 11,
   "source": [
    "# Use Pandas to calcualte the summary statistics for the precipitation data\r\n",
    "prcp_chart.describe()"
   ],
   "outputs": [
    {
     "output_type": "execute_result",
     "data": {
      "text/plain": [
       "       Precipitation\n",
       "count    2021.000000\n",
       "mean        0.177279\n",
       "std         0.461190\n",
       "min         0.000000\n",
       "25%         0.000000\n",
       "50%         0.020000\n",
       "75%         0.130000\n",
       "max         6.700000"
      ],
      "text/html": [
       "<div>\n",
       "<style scoped>\n",
       "    .dataframe tbody tr th:only-of-type {\n",
       "        vertical-align: middle;\n",
       "    }\n",
       "\n",
       "    .dataframe tbody tr th {\n",
       "        vertical-align: top;\n",
       "    }\n",
       "\n",
       "    .dataframe thead th {\n",
       "        text-align: right;\n",
       "    }\n",
       "</style>\n",
       "<table border=\"1\" class=\"dataframe\">\n",
       "  <thead>\n",
       "    <tr style=\"text-align: right;\">\n",
       "      <th></th>\n",
       "      <th>Precipitation</th>\n",
       "    </tr>\n",
       "  </thead>\n",
       "  <tbody>\n",
       "    <tr>\n",
       "      <th>count</th>\n",
       "      <td>2021.000000</td>\n",
       "    </tr>\n",
       "    <tr>\n",
       "      <th>mean</th>\n",
       "      <td>0.177279</td>\n",
       "    </tr>\n",
       "    <tr>\n",
       "      <th>std</th>\n",
       "      <td>0.461190</td>\n",
       "    </tr>\n",
       "    <tr>\n",
       "      <th>min</th>\n",
       "      <td>0.000000</td>\n",
       "    </tr>\n",
       "    <tr>\n",
       "      <th>25%</th>\n",
       "      <td>0.000000</td>\n",
       "    </tr>\n",
       "    <tr>\n",
       "      <th>50%</th>\n",
       "      <td>0.020000</td>\n",
       "    </tr>\n",
       "    <tr>\n",
       "      <th>75%</th>\n",
       "      <td>0.130000</td>\n",
       "    </tr>\n",
       "    <tr>\n",
       "      <th>max</th>\n",
       "      <td>6.700000</td>\n",
       "    </tr>\n",
       "  </tbody>\n",
       "</table>\n",
       "</div>"
      ]
     },
     "metadata": {},
     "execution_count": 11
    }
   ],
   "metadata": {}
  },
  {
   "cell_type": "markdown",
   "source": [
    "# Exploratory Station Analysis"
   ],
   "metadata": {}
  },
  {
   "cell_type": "code",
   "execution_count": 12,
   "source": [
    "# Design a query to calculate the total number stations in the dataset\r\n",
    "num_stations = session.query(func.count(distinct(station.station))).all()\r\n",
    "num_stations"
   ],
   "outputs": [
    {
     "output_type": "execute_result",
     "data": {
      "text/plain": [
       "[(9)]"
      ]
     },
     "metadata": {},
     "execution_count": 12
    }
   ],
   "metadata": {}
  },
  {
   "cell_type": "code",
   "execution_count": 13,
   "source": [
    "# Design a query to find the most active stations (i.e. what stations have the most rows?)\r\n",
    "# List the stations and the counts in descending order.\r\n",
    "prcp_activity = session.query(measurement.station,(func.count(measurement.prcp))).\\\r\n",
    "    group_by(measurement.station).\\\r\n",
    "    order_by(desc(measurement.station)).all()\r\n",
    "prcp_activity"
   ],
   "outputs": [
    {
     "output_type": "execute_result",
     "data": {
      "text/plain": [
       "[('USC00519523', 2572),\n",
       " ('USC00519397', 2685),\n",
       " ('USC00519281', 2772),\n",
       " ('USC00518838', 342),\n",
       " ('USC00517948', 683),\n",
       " ('USC00516128', 2484),\n",
       " ('USC00514830', 1937),\n",
       " ('USC00513117', 2696),\n",
       " ('USC00511918', 1932)]"
      ]
     },
     "metadata": {},
     "execution_count": 13
    }
   ],
   "metadata": {}
  },
  {
   "cell_type": "code",
   "execution_count": 14,
   "source": [
    "active_station_id = session.query(measurement.station).\\\r\n",
    "    group_by(measurement.station).\\\r\n",
    "    order_by(desc(measurement.station)).first()\r\n",
    "active_station_id[0]"
   ],
   "outputs": [
    {
     "output_type": "execute_result",
     "data": {
      "text/plain": [
       "'USC00519523'"
      ]
     },
     "metadata": {},
     "execution_count": 14
    }
   ],
   "metadata": {}
  },
  {
   "cell_type": "code",
   "execution_count": 15,
   "source": [
    "# Using the most active station id from the previous query, calculate the lowest, highest, and average temperature.\r\n",
    "active_stats = session.query(measurement.tobs).\\\r\n",
    "    filter_by(station = active_station_id[0]).all()\r\n",
    "max_temp = session.query(func.max(measurement.tobs)).\\\r\n",
    "    filter_by(station = active_station_id[0]).all()\r\n",
    "max_temp"
   ],
   "outputs": [
    {
     "output_type": "execute_result",
     "data": {
      "text/plain": [
       "[(85.0)]"
      ]
     },
     "metadata": {},
     "execution_count": 15
    }
   ],
   "metadata": {}
  },
  {
   "cell_type": "code",
   "execution_count": 16,
   "source": [
    "min_temp = session.query(func.min(measurement.tobs)).\\\r\n",
    "    filter_by(station = active_station_id[0]).all()\r\n",
    "min_temp"
   ],
   "outputs": [
    {
     "output_type": "execute_result",
     "data": {
      "text/plain": [
       "[(56.0)]"
      ]
     },
     "metadata": {},
     "execution_count": 16
    }
   ],
   "metadata": {}
  },
  {
   "cell_type": "code",
   "execution_count": 17,
   "source": [
    "avg_temp = session.query(func.avg(measurement.tobs)).\\\r\n",
    "    filter_by(station = active_station_id[0]).all()\r\n",
    "avg_temp"
   ],
   "outputs": [
    {
     "output_type": "execute_result",
     "data": {
      "text/plain": [
       "[(74.5436493068565)]"
      ]
     },
     "metadata": {},
     "execution_count": 17
    }
   ],
   "metadata": {}
  },
  {
   "cell_type": "code",
   "execution_count": 18,
   "source": [
    "annual_activestn_tobs = engine.execute('SELECT date,tobs FROM measurement WHERE date BETWEEN :start AND :end AND station == :station_id',(timestamp_start,timestamp_end,active_station_id[0])).fetchall()\r\n",
    "# annual_activestn_tobs"
   ],
   "outputs": [],
   "metadata": {}
  },
  {
   "cell_type": "code",
   "execution_count": 19,
   "source": [
    "# Using the most active station id\r\n",
    "# Query the last 12 months of temperature observation data for this station and plot the results as a histogram\r\n",
    "annual_activestn_tobs = engine.execute('SELECT date,tobs FROM measurement WHERE date BETWEEN :start AND :end AND station == :station_id',(timestamp_start,timestamp_end,active_station_id[0])).fetchall()\r\n",
    "# annual_activestn_tobs\r\n",
    "\r\n",
    "tobs_df = pd.DataFrame(annual_activestn_tobs)\r\n",
    "tobs_df[0]=pd.to_datetime(tobs_df[0])\r\n",
    "tobs_final = tobs_df.rename(columns={0:'Date',1:'Temperature'}).set_index('Date').dropna()\r\n",
    "tobs_chart = tobs_final.sort_values(by=['Date'])"
   ],
   "outputs": [],
   "metadata": {}
  },
  {
   "cell_type": "code",
   "execution_count": 21,
   "source": [
    "# Use Pandas Plotting with Matplotlib to plot the data\r\n",
    "figsize=(13,13)\r\n",
    "plt.plot(tobs_chart.index, tobs_chart['Temperature'],label=\"Temperature\")\r\n",
    "plt.legend(loc=\"upper center\")\r\n",
    "plt.title(\"Temperature of Station \"+ str(active_station_id[0]) + \" over 12 months\")\r\n",
    "plt.xlabel(\"Date\")\r\n",
    "plt.ylabel(\"Temperature\")\r\n",
    "plt.xticks(rotation=90)\r\n",
    "plt.show()"
   ],
   "outputs": [
    {
     "output_type": "display_data",
     "data": {
      "text/plain": [
       "<Figure size 432x288 with 1 Axes>"
      ],
      "image/png": "[encoded data removed]"
     },
     "metadata": {}
    }
   ],
   "metadata": {}
  },
  {
   "cell_type": "markdown",
   "source": [
    "# Close session"
   ],
   "metadata": {}
  },
  {
   "cell_type": "code",
   "execution_count": 23,
   "source": [
    "# Close Session\r\n",
    "session.close()"
   ],
   "outputs": [],
   "metadata": {}
  }
 ],
 "metadata": {
  "anaconda-cloud": {},
  "kernel_info": {
   "name": "python3"
  },
  "kernelspec": {
   "name": "python3",
   "display_name": "Python 3.6.10 64-bit ('PythonData': conda)"
  },
  "language_info": {
   "codemirror_mode": {
    "name": "ipython",
    "version": 3
   },
   "file_extension": ".py",
   "mimetype": "text/x-python",
   "name": "python",
   "nbconvert_exporter": "python",
   "pygments_lexer": "ipython3",
   "version": "3.6.10"
  },
  "nteract": {
   "version": "0.12.3"
  },
  "varInspector": {
   "cols": {
    "lenName": 16,
    "lenType": 16,
    "lenVar": 40
   },
   "kernels_config": {
    "python": {
     "delete_cmd_postfix": "",
     "delete_cmd_prefix": "del ",
     "library": "var_list.py",
     "varRefreshCmd": "print(var_dic_list())"
    },
    "r": {
     "delete_cmd_postfix": ") ",
     "delete_cmd_prefix": "rm(",
     "library": "var_list.r",
     "varRefreshCmd": "cat(var_dic_list()) "
    }
   },
   "types_to_exclude": [
    "module",
    "function",
    "builtin_function_or_method",
    "instance",
    "_Feature"
   ],
   "window_display": false
  },
  "interpreter": {
   "hash": "03e16bf20b38c5bc3bf00c976c15238982088169e9834c6084af3096887b3e40"
  }
 },
 "nbformat": 4,
 "nbformat_minor": 2
}